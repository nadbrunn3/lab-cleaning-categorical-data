{
 "cells": [
  {
   "cell_type": "markdown",
   "id": "8c8941b5-6d1e-4291-9499-4b07640e6755",
   "metadata": {},
   "source": [
    "# Lab | Cleaning categorical data"
   ]
  },
  {
   "cell_type": "code",
   "execution_count": 5,
   "id": "f6b1c63c-d8f7-479a-a683-1cf86563094a",
   "metadata": {},
   "outputs": [],
   "source": [
    "import pandas as pd\n",
    "import numpy as np\n",
    "import seaborn as sns\n",
    "import matplotlib.pyplot as plt\n",
    "%matplotlib inline"
   ]
  },
  {
   "cell_type": "code",
   "execution_count": 6,
   "id": "8310caa4-fc22-4c51-a11d-dcd5de70b22b",
   "metadata": {},
   "outputs": [],
   "source": [
    "customer_df = pd.read_csv('files_for_lab/we_fn_use_c_marketing_customer_value_analysis.csv')"
   ]
  },
  {
   "cell_type": "code",
   "execution_count": 7,
   "id": "09a90852-2b80-4dd5-a8a5-d7fe57a6585a",
   "metadata": {},
   "outputs": [
    {
     "data": {
      "text/html": [
       "<div>\n",
       "<style scoped>\n",
       "    .dataframe tbody tr th:only-of-type {\n",
       "        vertical-align: middle;\n",
       "    }\n",
       "\n",
       "    .dataframe tbody tr th {\n",
       "        vertical-align: top;\n",
       "    }\n",
       "\n",
       "    .dataframe thead th {\n",
       "        text-align: right;\n",
       "    }\n",
       "</style>\n",
       "<table border=\"1\" class=\"dataframe\">\n",
       "  <thead>\n",
       "    <tr style=\"text-align: right;\">\n",
       "      <th></th>\n",
       "      <th>Customer</th>\n",
       "      <th>State</th>\n",
       "      <th>Customer Lifetime Value</th>\n",
       "      <th>Response</th>\n",
       "      <th>Coverage</th>\n",
       "      <th>Education</th>\n",
       "      <th>Effective To Date</th>\n",
       "      <th>EmploymentStatus</th>\n",
       "      <th>Gender</th>\n",
       "      <th>Income</th>\n",
       "      <th>...</th>\n",
       "      <th>Months Since Policy Inception</th>\n",
       "      <th>Number of Open Complaints</th>\n",
       "      <th>Number of Policies</th>\n",
       "      <th>Policy Type</th>\n",
       "      <th>Policy</th>\n",
       "      <th>Renew Offer Type</th>\n",
       "      <th>Sales Channel</th>\n",
       "      <th>Total Claim Amount</th>\n",
       "      <th>Vehicle Class</th>\n",
       "      <th>Vehicle Size</th>\n",
       "    </tr>\n",
       "  </thead>\n",
       "  <tbody>\n",
       "    <tr>\n",
       "      <th>0</th>\n",
       "      <td>BU79786</td>\n",
       "      <td>Washington</td>\n",
       "      <td>2763.519279</td>\n",
       "      <td>No</td>\n",
       "      <td>Basic</td>\n",
       "      <td>Bachelor</td>\n",
       "      <td>2/24/11</td>\n",
       "      <td>Employed</td>\n",
       "      <td>F</td>\n",
       "      <td>56274</td>\n",
       "      <td>...</td>\n",
       "      <td>5</td>\n",
       "      <td>0</td>\n",
       "      <td>1</td>\n",
       "      <td>Corporate Auto</td>\n",
       "      <td>Corporate L3</td>\n",
       "      <td>Offer1</td>\n",
       "      <td>Agent</td>\n",
       "      <td>384.811147</td>\n",
       "      <td>Two-Door Car</td>\n",
       "      <td>Medsize</td>\n",
       "    </tr>\n",
       "    <tr>\n",
       "      <th>1</th>\n",
       "      <td>QZ44356</td>\n",
       "      <td>Arizona</td>\n",
       "      <td>6979.535903</td>\n",
       "      <td>No</td>\n",
       "      <td>Extended</td>\n",
       "      <td>Bachelor</td>\n",
       "      <td>1/31/11</td>\n",
       "      <td>Unemployed</td>\n",
       "      <td>F</td>\n",
       "      <td>0</td>\n",
       "      <td>...</td>\n",
       "      <td>42</td>\n",
       "      <td>0</td>\n",
       "      <td>8</td>\n",
       "      <td>Personal Auto</td>\n",
       "      <td>Personal L3</td>\n",
       "      <td>Offer3</td>\n",
       "      <td>Agent</td>\n",
       "      <td>1131.464935</td>\n",
       "      <td>Four-Door Car</td>\n",
       "      <td>Medsize</td>\n",
       "    </tr>\n",
       "    <tr>\n",
       "      <th>2</th>\n",
       "      <td>AI49188</td>\n",
       "      <td>Nevada</td>\n",
       "      <td>12887.431650</td>\n",
       "      <td>No</td>\n",
       "      <td>Premium</td>\n",
       "      <td>Bachelor</td>\n",
       "      <td>2/19/11</td>\n",
       "      <td>Employed</td>\n",
       "      <td>F</td>\n",
       "      <td>48767</td>\n",
       "      <td>...</td>\n",
       "      <td>38</td>\n",
       "      <td>0</td>\n",
       "      <td>2</td>\n",
       "      <td>Personal Auto</td>\n",
       "      <td>Personal L3</td>\n",
       "      <td>Offer1</td>\n",
       "      <td>Agent</td>\n",
       "      <td>566.472247</td>\n",
       "      <td>Two-Door Car</td>\n",
       "      <td>Medsize</td>\n",
       "    </tr>\n",
       "    <tr>\n",
       "      <th>3</th>\n",
       "      <td>WW63253</td>\n",
       "      <td>California</td>\n",
       "      <td>7645.861827</td>\n",
       "      <td>No</td>\n",
       "      <td>Basic</td>\n",
       "      <td>Bachelor</td>\n",
       "      <td>1/20/11</td>\n",
       "      <td>Unemployed</td>\n",
       "      <td>M</td>\n",
       "      <td>0</td>\n",
       "      <td>...</td>\n",
       "      <td>65</td>\n",
       "      <td>0</td>\n",
       "      <td>7</td>\n",
       "      <td>Corporate Auto</td>\n",
       "      <td>Corporate L2</td>\n",
       "      <td>Offer1</td>\n",
       "      <td>Call Center</td>\n",
       "      <td>529.881344</td>\n",
       "      <td>SUV</td>\n",
       "      <td>Medsize</td>\n",
       "    </tr>\n",
       "    <tr>\n",
       "      <th>4</th>\n",
       "      <td>HB64268</td>\n",
       "      <td>Washington</td>\n",
       "      <td>2813.692575</td>\n",
       "      <td>No</td>\n",
       "      <td>Basic</td>\n",
       "      <td>Bachelor</td>\n",
       "      <td>2/3/11</td>\n",
       "      <td>Employed</td>\n",
       "      <td>M</td>\n",
       "      <td>43836</td>\n",
       "      <td>...</td>\n",
       "      <td>44</td>\n",
       "      <td>0</td>\n",
       "      <td>1</td>\n",
       "      <td>Personal Auto</td>\n",
       "      <td>Personal L1</td>\n",
       "      <td>Offer1</td>\n",
       "      <td>Agent</td>\n",
       "      <td>138.130879</td>\n",
       "      <td>Four-Door Car</td>\n",
       "      <td>Medsize</td>\n",
       "    </tr>\n",
       "  </tbody>\n",
       "</table>\n",
       "<p>5 rows × 24 columns</p>\n",
       "</div>"
      ],
      "text/plain": [
       "  Customer       State  Customer Lifetime Value Response  Coverage Education  \\\n",
       "0  BU79786  Washington              2763.519279       No     Basic  Bachelor   \n",
       "1  QZ44356     Arizona              6979.535903       No  Extended  Bachelor   \n",
       "2  AI49188      Nevada             12887.431650       No   Premium  Bachelor   \n",
       "3  WW63253  California              7645.861827       No     Basic  Bachelor   \n",
       "4  HB64268  Washington              2813.692575       No     Basic  Bachelor   \n",
       "\n",
       "  Effective To Date EmploymentStatus Gender  Income  ...  \\\n",
       "0           2/24/11         Employed      F   56274  ...   \n",
       "1           1/31/11       Unemployed      F       0  ...   \n",
       "2           2/19/11         Employed      F   48767  ...   \n",
       "3           1/20/11       Unemployed      M       0  ...   \n",
       "4            2/3/11         Employed      M   43836  ...   \n",
       "\n",
       "  Months Since Policy Inception Number of Open Complaints  Number of Policies  \\\n",
       "0                             5                         0                   1   \n",
       "1                            42                         0                   8   \n",
       "2                            38                         0                   2   \n",
       "3                            65                         0                   7   \n",
       "4                            44                         0                   1   \n",
       "\n",
       "      Policy Type        Policy  Renew Offer Type  Sales Channel  \\\n",
       "0  Corporate Auto  Corporate L3            Offer1          Agent   \n",
       "1   Personal Auto   Personal L3            Offer3          Agent   \n",
       "2   Personal Auto   Personal L3            Offer1          Agent   \n",
       "3  Corporate Auto  Corporate L2            Offer1    Call Center   \n",
       "4   Personal Auto   Personal L1            Offer1          Agent   \n",
       "\n",
       "  Total Claim Amount  Vehicle Class Vehicle Size  \n",
       "0         384.811147   Two-Door Car      Medsize  \n",
       "1        1131.464935  Four-Door Car      Medsize  \n",
       "2         566.472247   Two-Door Car      Medsize  \n",
       "3         529.881344            SUV      Medsize  \n",
       "4         138.130879  Four-Door Car      Medsize  \n",
       "\n",
       "[5 rows x 24 columns]"
      ]
     },
     "execution_count": 7,
     "metadata": {},
     "output_type": "execute_result"
    }
   ],
   "source": [
    "customer_df.head()"
   ]
  },
  {
   "cell_type": "code",
   "execution_count": 8,
   "id": "237b4a4e-5519-48fd-af6c-56dfce3a5349",
   "metadata": {},
   "outputs": [
    {
     "name": "stdout",
     "output_type": "stream",
     "text": [
      "<class 'pandas.core.frame.DataFrame'>\n",
      "RangeIndex: 9134 entries, 0 to 9133\n",
      "Data columns (total 24 columns):\n",
      " #   Column                         Non-Null Count  Dtype  \n",
      "---  ------                         --------------  -----  \n",
      " 0   Customer                       9134 non-null   object \n",
      " 1   State                          9134 non-null   object \n",
      " 2   Customer Lifetime Value        9134 non-null   float64\n",
      " 3   Response                       9134 non-null   object \n",
      " 4   Coverage                       9134 non-null   object \n",
      " 5   Education                      9134 non-null   object \n",
      " 6   Effective To Date              9134 non-null   object \n",
      " 7   EmploymentStatus               9134 non-null   object \n",
      " 8   Gender                         9134 non-null   object \n",
      " 9   Income                         9134 non-null   int64  \n",
      " 10  Location Code                  9134 non-null   object \n",
      " 11  Marital Status                 9134 non-null   object \n",
      " 12  Monthly Premium Auto           9134 non-null   int64  \n",
      " 13  Months Since Last Claim        9134 non-null   int64  \n",
      " 14  Months Since Policy Inception  9134 non-null   int64  \n",
      " 15  Number of Open Complaints      9134 non-null   int64  \n",
      " 16  Number of Policies             9134 non-null   int64  \n",
      " 17  Policy Type                    9134 non-null   object \n",
      " 18  Policy                         9134 non-null   object \n",
      " 19  Renew Offer Type               9134 non-null   object \n",
      " 20  Sales Channel                  9134 non-null   object \n",
      " 21  Total Claim Amount             9134 non-null   float64\n",
      " 22  Vehicle Class                  9134 non-null   object \n",
      " 23  Vehicle Size                   9134 non-null   object \n",
      "dtypes: float64(2), int64(6), object(16)\n",
      "memory usage: 1.7+ MB\n"
     ]
    }
   ],
   "source": [
    "customer_df.info()"
   ]
  },
  {
   "cell_type": "markdown",
   "id": "b1116bc3-8073-4088-818a-334c06d65dc6",
   "metadata": {},
   "source": [
    "### Extracting the categorical columns "
   ]
  },
  {
   "cell_type": "code",
   "execution_count": 15,
   "id": "c49ed27a-1923-4db8-9835-6a749a9e9a01",
   "metadata": {},
   "outputs": [],
   "source": [
    "# get all object values \n",
    "\n",
    "customer_cat = customer_df.select_dtypes([object])"
   ]
  },
  {
   "cell_type": "markdown",
   "id": "927a4c0a-f845-47a4-8338-d0dedb0bdc84",
   "metadata": {},
   "source": [
    "### Checking for NaN"
   ]
  },
  {
   "cell_type": "code",
   "execution_count": 16,
   "id": "11ba6c12-cefc-489f-9c86-ebd17723e53d",
   "metadata": {},
   "outputs": [
    {
     "data": {
      "text/plain": [
       "Customer             0\n",
       "State                0\n",
       "Response             0\n",
       "Coverage             0\n",
       "Education            0\n",
       "Effective To Date    0\n",
       "EmploymentStatus     0\n",
       "Gender               0\n",
       "Location Code        0\n",
       "Marital Status       0\n",
       "Policy Type          0\n",
       "Policy               0\n",
       "Renew Offer Type     0\n",
       "Sales Channel        0\n",
       "Vehicle Class        0\n",
       "Vehicle Size         0\n",
       "dtype: int64"
      ]
     },
     "execution_count": 16,
     "metadata": {},
     "output_type": "execute_result"
    }
   ],
   "source": [
    "# checking for NaN \n",
    "\n",
    "customer_cat.isna().sum()"
   ]
  },
  {
   "cell_type": "markdown",
   "id": "b3dfaa85-d1f1-47cb-967b-e7ce6fd77550",
   "metadata": {},
   "source": [
    "### Checking unique values for each feature"
   ]
  },
  {
   "cell_type": "code",
   "execution_count": 52,
   "id": "2c46349a-aead-4396-bc22-5637da82b1f6",
   "metadata": {},
   "outputs": [
    {
     "name": "stdout",
     "output_type": "stream",
     "text": [
      "\n",
      " BU79786    1\n",
      "PU81096    1\n",
      "CO75086    1\n",
      "WW52683    1\n",
      "XO38850    1\n",
      "          ..\n",
      "HS14476    1\n",
      "YL91587    1\n",
      "CT18212    1\n",
      "EW35231    1\n",
      "Y167826    1\n",
      "Name: Customer, Length: 9134, dtype: int64 \n",
      "\n",
      "\n",
      " California    3150\n",
      "Oregon        2601\n",
      "Arizona       1703\n",
      "Nevada         882\n",
      "Washington     798\n",
      "Name: State, dtype: int64 \n",
      "\n",
      "\n",
      " No     7826\n",
      "Yes    1308\n",
      "Name: Response, dtype: int64 \n",
      "\n",
      "\n",
      " Basic       5568\n",
      "Extended    2742\n",
      "Premium      824\n",
      "Name: Coverage, dtype: int64 \n",
      "\n",
      "\n",
      " Bachelor                2748\n",
      "College                 2681\n",
      "High School or Below    2622\n",
      "Master                   741\n",
      "Doctor                   342\n",
      "Name: Education, dtype: int64 \n",
      "\n",
      "\n",
      " 1/10/11    195\n",
      "1/27/11    194\n",
      "2/14/11    186\n",
      "1/26/11    181\n",
      "1/17/11    180\n",
      "1/19/11    179\n",
      "1/31/11    178\n",
      "1/3/11     178\n",
      "1/20/11    173\n",
      "2/26/11    169\n",
      "1/28/11    169\n",
      "2/19/11    168\n",
      "1/5/11     167\n",
      "2/27/11    167\n",
      "1/11/11    166\n",
      "2/4/11     164\n",
      "2/10/11    161\n",
      "2/28/11    161\n",
      "1/2/11     160\n",
      "1/21/11    160\n",
      "1/29/11    160\n",
      "2/22/11    158\n",
      "2/5/11     158\n",
      "2/3/11     158\n",
      "2/7/11     157\n",
      "2/12/11    156\n",
      "1/23/11    155\n",
      "2/1/11     154\n",
      "1/18/11    154\n",
      "1/15/11    153\n",
      "1/14/11    152\n",
      "2/11/11    151\n",
      "1/7/11     151\n",
      "1/25/11    151\n",
      "2/25/11    149\n",
      "1/8/11     149\n",
      "2/18/11    149\n",
      "2/2/11     149\n",
      "1/1/11     148\n",
      "2/21/11    148\n",
      "1/24/11    147\n",
      "1/9/11     146\n",
      "1/30/11    145\n",
      "1/13/11    145\n",
      "2/6/11     144\n",
      "1/6/11     143\n",
      "2/23/11    143\n",
      "1/16/11    142\n",
      "2/16/11    139\n",
      "2/13/11    139\n",
      "2/24/11    139\n",
      "2/9/11     137\n",
      "2/17/11    136\n",
      "1/22/11    136\n",
      "2/8/11     134\n",
      "2/20/11    132\n",
      "2/15/11    130\n",
      "1/12/11    126\n",
      "1/4/11     115\n",
      "Name: Effective To Date, dtype: int64 \n",
      "\n",
      "\n",
      " Employed         5698\n",
      "Unemployed       2317\n",
      "Medical Leave     432\n",
      "Disabled          405\n",
      "Retired           282\n",
      "Name: EmploymentStatus, dtype: int64 \n",
      "\n",
      "\n",
      " F    4658\n",
      "M    4476\n",
      "Name: Gender, dtype: int64 \n",
      "\n",
      "\n",
      " Suburban    5779\n",
      "Rural       1773\n",
      "Urban       1582\n",
      "Name: Location Code, dtype: int64 \n",
      "\n",
      "\n",
      " Married     5298\n",
      "Single      2467\n",
      "Divorced    1369\n",
      "Name: Marital Status, dtype: int64 \n",
      "\n",
      "\n",
      " Personal Auto     6788\n",
      "Corporate Auto    1968\n",
      "Special Auto       378\n",
      "Name: Policy Type, dtype: int64 \n",
      "\n",
      "\n",
      " Personal L3     3426\n",
      "Personal L2     2122\n",
      "Personal L1     1240\n",
      "Corporate L3    1014\n",
      "Corporate L2     595\n",
      "Corporate L1     359\n",
      "Special L2       164\n",
      "Special L3       148\n",
      "Special L1        66\n",
      "Name: Policy, dtype: int64 \n",
      "\n",
      "\n",
      " Offer1    3752\n",
      "Offer2    2926\n",
      "Offer3    1432\n",
      "Offer4    1024\n",
      "Name: Renew Offer Type, dtype: int64 \n",
      "\n",
      "\n",
      " Agent          3477\n",
      "Branch         2567\n",
      "Call Center    1765\n",
      "Web            1325\n",
      "Name: Sales Channel, dtype: int64 \n",
      "\n",
      "\n",
      " Four-Door Car    4621\n",
      "Two-Door Car     1886\n",
      "SUV              1796\n",
      "Sports Car        484\n",
      "Luxury SUV        184\n",
      "Luxury Car        163\n",
      "Name: Vehicle Class, dtype: int64 \n",
      "\n",
      "\n",
      " Medsize    6424\n",
      "Small      1764\n",
      "Large       946\n",
      "Name: Vehicle Size, dtype: int64 \n",
      "\n"
     ]
    },
    {
     "data": {
      "text/plain": [
       "Customer             None\n",
       "State                None\n",
       "Response             None\n",
       "Coverage             None\n",
       "Education            None\n",
       "Effective To Date    None\n",
       "EmploymentStatus     None\n",
       "Gender               None\n",
       "Location Code        None\n",
       "Marital Status       None\n",
       "Policy Type          None\n",
       "Policy               None\n",
       "Renew Offer Type     None\n",
       "Sales Channel        None\n",
       "Vehicle Class        None\n",
       "Vehicle Size         None\n",
       "dtype: object"
      ]
     },
     "execution_count": 52,
     "metadata": {},
     "output_type": "execute_result"
    }
   ],
   "source": [
    "# checking unique values for each feature\n",
    "\n",
    "f = lambda x: print('\\n',x.value_counts(), '\\n')\n",
    "customer_cat.apply(f)\n"
   ]
  },
  {
   "cell_type": "code",
   "execution_count": null,
   "id": "58c1df28-a9a1-458c-bedb-2418bfff4c65",
   "metadata": {},
   "outputs": [],
   "source": []
  },
  {
   "cell_type": "markdown",
   "id": "30c5fff5-bd4b-47b3-a42a-5e94eb0079b3",
   "metadata": {},
   "source": [
    "### Checking dtypes and Plausibility "
   ]
  },
  {
   "cell_type": "code",
   "execution_count": 57,
   "id": "3fc4eae5-296a-4104-98a8-d9c8e6246b85",
   "metadata": {},
   "outputs": [
    {
     "name": "stdout",
     "output_type": "stream",
     "text": [
      "<class 'pandas.core.frame.DataFrame'>\n",
      "RangeIndex: 9134 entries, 0 to 9133\n",
      "Data columns (total 16 columns):\n",
      " #   Column             Non-Null Count  Dtype \n",
      "---  ------             --------------  ----- \n",
      " 0   Customer           9134 non-null   object\n",
      " 1   State              9134 non-null   object\n",
      " 2   Response           9134 non-null   object\n",
      " 3   Coverage           9134 non-null   object\n",
      " 4   Education          9134 non-null   object\n",
      " 5   Effective To Date  9134 non-null   object\n",
      " 6   EmploymentStatus   9134 non-null   object\n",
      " 7   Gender             9134 non-null   object\n",
      " 8   Location Code      9134 non-null   object\n",
      " 9   Marital Status     9134 non-null   object\n",
      " 10  Policy Type        9134 non-null   object\n",
      " 11  Policy             9134 non-null   object\n",
      " 12  Renew Offer Type   9134 non-null   object\n",
      " 13  Sales Channel      9134 non-null   object\n",
      " 14  Vehicle Class      9134 non-null   object\n",
      " 15  Vehicle Size       9134 non-null   object\n",
      "dtypes: object(16)\n",
      "memory usage: 1.1+ MB\n"
     ]
    }
   ],
   "source": [
    "customer_cat.info()\n",
    "\n",
    "# all those dtypes make sense!"
   ]
  },
  {
   "cell_type": "markdown",
   "id": "763fcc3b-5b12-45dd-8ba2-0c12f2c02eb4",
   "metadata": {},
   "source": [
    "### 6. Does any column contain alpha and numeric data?  Decide how to clean it."
   ]
  },
  {
   "cell_type": "code",
   "execution_count": 64,
   "id": "a2afd592-0bf5-46d2-81bd-ac2b951cfd16",
   "metadata": {},
   "outputs": [],
   "source": [
    "# I do not see any in the categorical columns. \n",
    "\n",
    "customer_num = customer_df.select_dtypes(np.number)"
   ]
  },
  {
   "cell_type": "code",
   "execution_count": 66,
   "id": "8498b36a-0d1a-45c8-a05f-b03cb86dd685",
   "metadata": {},
   "outputs": [
    {
     "name": "stdout",
     "output_type": "stream",
     "text": [
      "\n",
      " [ 2763.519279  6979.535903 12887.43165  ...  8163.890428  7524.442436\n",
      "  2611.836866] \n",
      "\n",
      "\n",
      " [56274     0 48767 ... 66367 71941 21941] \n",
      "\n",
      "\n",
      " [ 69  94 108 106  73  67 101  71  93 110  70  64  72  74  79  61 111 139\n",
      "  80  63 237  65  62 117  91  90  66  99 103 172  92 104 113 124 105 100\n",
      " 112  97  95 102 186  77  96  76 119  88 109 107 130  85  98 133  86  78\n",
      "  83  68 192 118  89 140 127 168 126  82 115 217 114 138  81 255 150 123\n",
      " 116 190 159  84 152 136 245 135 128 225 132 153 121 154 161 156 171  87\n",
      " 244 183 176 230 129 177 196 131 276 253 137 180 203 147 165 198 125 193\n",
      " 271 188 142 206 182 189 160 295 210 134 239 256 173 285 148 197 199 214\n",
      " 175 167 194 164 181 222 215 283 169 248 223 273 151 213 145 185 287 297\n",
      " 201 149 146 235 268 211 187 141 242 170 122 143 155 166 212 249 240 191\n",
      " 195 216 144 179 232 158 207 184 238 229 220 178 204 281 234 218 275 209\n",
      " 261 157 205 228 284 231 208 296 202 162 274 219 247 290 226 163 298 266\n",
      " 254 252 174 286] \n",
      "\n",
      "\n",
      " [32 13 18 12 14  0 17 23 27  9 21 11 31  8  4 30 22 15 33  1 19 28 10  7\n",
      "  3  5 20 24 29 34  6 35  2 16 26 25] \n",
      "\n",
      "\n",
      " [ 5 42 38 65 44 94 13 68  3  7 87 82 25 10 50 59  1 21 49 91 47 64 54  6\n",
      " 14 56 17 40 62 86 79 15 32 28 16  4 57 77 95 26 53 12 98 36 71 60 20  0\n",
      " 27 48 33 83 30 69 90 81 84 88 18 11 85 93 34 89  2 70 37 43  8 35 99 55\n",
      " 75 51 92 29 63 61 46 41 31 45 67 22 23  9 72 96 58 66 73 39 19 97 52 76\n",
      " 78 80 74 24] \n",
      "\n",
      "\n",
      " [0 2 1 3 5 4] \n",
      "\n",
      "\n",
      " [1 8 2 7 9 4 3 6 5] \n",
      "\n",
      "\n",
      " [ 384.811147 1131.464935  566.472247 ...  541.282007  198.234764\n",
      "  790.784983] \n",
      "\n"
     ]
    },
    {
     "data": {
      "text/plain": [
       "Customer Lifetime Value          None\n",
       "Income                           None\n",
       "Monthly Premium Auto             None\n",
       "Months Since Last Claim          None\n",
       "Months Since Policy Inception    None\n",
       "Number of Open Complaints        None\n",
       "Number of Policies               None\n",
       "Total Claim Amount               None\n",
       "dtype: object"
      ]
     },
     "execution_count": 66,
     "metadata": {},
     "output_type": "execute_result"
    }
   ],
   "source": [
    "# i will check the numerical as well\n",
    "\n",
    "customer_num.apply(lambda x: print('\\n', x.unique(), '\\n'))\n",
    "\n",
    "# also no numerical AND alphanumerical values in a feature."
   ]
  },
  {
   "cell_type": "markdown",
   "id": "0cdc2564-53bc-4e7e-b90a-3c4f085e579a",
   "metadata": {},
   "source": [
    "### 7. Would you choose to do anything else to clean or wrangle the categorical data?  Comment your decisions."
   ]
  },
  {
   "cell_type": "markdown",
   "id": "2306e649-5e74-42cd-9345-e2bd76fd6dc8",
   "metadata": {},
   "source": [
    "##### I would transform into categorical value: Income, Monhtly Premium Auto, Montsh Since Last Claim, Months Since Policy, Number of OC, Number of P"
   ]
  },
  {
   "cell_type": "markdown",
   "id": "e6946642-2289-4c86-93ed-7c287cbcbba6",
   "metadata": {},
   "source": [
    "### 8. Compare policy_type and policy "
   ]
  },
  {
   "cell_type": "code",
   "execution_count": 68,
   "id": "8ee05f6d-8943-42c3-8293-d706a57f47f9",
   "metadata": {},
   "outputs": [
    {
     "data": {
      "text/plain": [
       "array(['Corporate L3', 'Personal L3', 'Corporate L2', 'Personal L1',\n",
       "       'Special L2', 'Corporate L1', 'Personal L2', 'Special L1',\n",
       "       'Special L3'], dtype=object)"
      ]
     },
     "execution_count": 68,
     "metadata": {},
     "output_type": "execute_result"
    }
   ],
   "source": [
    "customer_cat[['Policy', 'Policy Type']]\n",
    "\n",
    "customer_cat['Policy'].unique()"
   ]
  },
  {
   "cell_type": "code",
   "execution_count": 69,
   "id": "0fcdce97-8fd1-4e24-ad21-da2d9378ea47",
   "metadata": {},
   "outputs": [
    {
     "data": {
      "text/plain": [
       "array(['Corporate Auto', 'Personal Auto', 'Special Auto'], dtype=object)"
      ]
     },
     "execution_count": 69,
     "metadata": {},
     "output_type": "execute_result"
    }
   ],
   "source": [
    "customer_cat['Policy Type'].unique()"
   ]
  },
  {
   "cell_type": "code",
   "execution_count": 73,
   "id": "7f0fe599-71c5-4e31-9a3c-c786e7b8619a",
   "metadata": {},
   "outputs": [
    {
     "data": {
      "image/png": "[encoded data removed]",
      "text/plain": [
       "<Figure size 432x288 with 1 Axes>"
      ]
     },
     "metadata": {
      "needs_background": "light"
     },
     "output_type": "display_data"
    },
    {
     "data": {
      "image/png": "[encoded data removed]",
      "text/plain": [
       "<Figure size 432x288 with 1 Axes>"
      ]
     },
     "metadata": {
      "needs_background": "light"
     },
     "output_type": "display_data"
    }
   ],
   "source": [
    "sns.histplot(customer_cat['Policy'])\n",
    "sns.histplot(customer_cat['Policy Type'])\n",
    "plt.xticks(rotation='vertical')\n",
    "plt.show()\n",
    "\n",
    "sns.histplot(customer_cat['Policy Type'])\n",
    "plt.show()"
   ]
  },
  {
   "cell_type": "markdown",
   "id": "91ff8b68-cd1c-4475-b38e-5d4e5c2068f6",
   "metadata": {},
   "source": [
    "#### Answer:\n",
    "\n",
    "\n",
    "\n",
    "Column **Policy** reveales the information on the type of coverage. Here you see the information on Car Type, and Coverage combined. I assume that this will have to do with the coverage types: Basic, Extended, Premium. \n",
    "\n",
    "\n",
    "**NOTE** In addition the Policy Type Feature itsefl is represented in the feature Policy as we can see at the rigth 3 bars. \n",
    "\n",
    "\n",
    "\n",
    "Column **Policy Type** shows the type of car that is insured. \n"
   ]
  },
  {
   "cell_type": "markdown",
   "id": "83926986-8ebd-4d54-a895-4d1a7a5fbf96",
   "metadata": {},
   "source": [
    "\n",
    "\n",
    "### 9. Check number of unique values in each column, can they be combined in any way to ease encoding?  Comment your thoughts and make those changes."
   ]
  },
  {
   "cell_type": "markdown",
   "id": "44894727-2bc0-4c1a-aff0-0dbc2f4b8d0d",
   "metadata": {},
   "source": [
    "##### 1) Education"
   ]
  },
  {
   "cell_type": "code",
   "execution_count": 79,
   "id": "51564b2b-868a-480b-8255-1daccb5e35ed",
   "metadata": {},
   "outputs": [
    {
     "data": {
      "text/plain": [
       "Bachelor                2748\n",
       "College                 2681\n",
       "High School or Below    2622\n",
       "Higher Eduction         1083\n",
       "Name: Education, dtype: int64"
      ]
     },
     "execution_count": 79,
     "metadata": {},
     "output_type": "execute_result"
    }
   ],
   "source": [
    "customer_cat['Education'].value_counts()"
   ]
  },
  {
   "cell_type": "code",
   "execution_count": 80,
   "id": "7a27b1c6-51fe-4e10-bc6f-24662ef4adb3",
   "metadata": {},
   "outputs": [
    {
     "name": "stderr",
     "output_type": "stream",
     "text": [
      "/var/folders/dj/n16zrnc50j79vq_pt7btwyg40000gn/T/ipykernel_51348/2425080356.py:1: SettingWithCopyWarning: \n",
      "A value is trying to be set on a copy of a slice from a DataFrame.\n",
      "Try using .loc[row_indexer,col_indexer] = value instead\n",
      "\n",
      "See the caveats in the documentation: https://pandas.pydata.org/pandas-docs/stable/user_guide/indexing.html#returning-a-view-versus-a-copy\n",
      "  customer_cat['Education'] = np.where(customer_cat['Education'].isin(['Master', 'Doctor']), 'Higher Eduction', customer_cat['Education'])\n"
     ]
    }
   ],
   "source": [
    "customer_cat['Education'] = np.where(customer_cat['Education'].isin(['Master', 'Doctor']), 'Higher Eduction', customer_cat['Education'])"
   ]
  },
  {
   "cell_type": "markdown",
   "id": "3c272777-5051-4c06-88e8-47359259826c",
   "metadata": {},
   "source": [
    "##### 2. EmploymentStatus"
   ]
  },
  {
   "cell_type": "code",
   "execution_count": 81,
   "id": "110642c3-7b87-4640-b656-7671d475ea33",
   "metadata": {},
   "outputs": [
    {
     "data": {
      "text/plain": [
       "Employed         5698\n",
       "Unemployed       2317\n",
       "Medical Leave     432\n",
       "Disabled          405\n",
       "Retired           282\n",
       "Name: EmploymentStatus, dtype: int64"
      ]
     },
     "execution_count": 81,
     "metadata": {},
     "output_type": "execute_result"
    }
   ],
   "source": [
    "customer_df['EmploymentStatus'].value_counts()"
   ]
  },
  {
   "cell_type": "code",
   "execution_count": 85,
   "id": "77caaf4b-3919-4259-8847-6f772f8034d5",
   "metadata": {},
   "outputs": [
    {
     "data": {
      "text/plain": [
       "Employed      5698\n",
       "Unemployed    2317\n",
       "Other         1119\n",
       "Name: EmploymentStatus, dtype: int64"
      ]
     },
     "execution_count": 85,
     "metadata": {},
     "output_type": "execute_result"
    }
   ],
   "source": [
    "customer_df['EmploymentStatus'] = np.where(customer_df['EmploymentStatus'].isin(['Medical Leave', 'Disabled', 'Retired']), 'Other', customer_df['EmploymentStatus'])\n",
    "customer_df['EmploymentStatus'].value_counts()"
   ]
  },
  {
   "cell_type": "markdown",
   "id": "78f2841c-44cc-46b2-98d8-f2dc65ef8344",
   "metadata": {},
   "source": [
    "##### 3. Policy"
   ]
  },
  {
   "cell_type": "code",
   "execution_count": 96,
   "id": "4f12039e-0f79-4694-b6de-91e391f280f3",
   "metadata": {},
   "outputs": [
    {
     "data": {
      "text/plain": [
       "Personal L3     3426\n",
       "Personal L2     2122\n",
       "Personal L1     1240\n",
       "Corporate L3    1014\n",
       "Corporate L2     595\n",
       "Corporate L1     359\n",
       "Special L2       164\n",
       "Special L3       148\n",
       "Special L1        66\n",
       "Name: Policy, dtype: int64"
      ]
     },
     "execution_count": 96,
     "metadata": {},
     "output_type": "execute_result"
    }
   ],
   "source": [
    "customer_cat['Policy'].value_counts()"
   ]
  },
  {
   "cell_type": "code",
   "execution_count": 111,
   "id": "189c0601-e8f8-4547-ab74-4742d534c09e",
   "metadata": {},
   "outputs": [
    {
     "name": "stderr",
     "output_type": "stream",
     "text": [
      "/var/folders/dj/n16zrnc50j79vq_pt7btwyg40000gn/T/ipykernel_51348/1316969217.py:12: SettingWithCopyWarning: \n",
      "A value is trying to be set on a copy of a slice from a DataFrame.\n",
      "Try using .loc[row_indexer,col_indexer] = value instead\n",
      "\n",
      "See the caveats in the documentation: https://pandas.pydata.org/pandas-docs/stable/user_guide/indexing.html#returning-a-view-versus-a-copy\n",
      "  customer_cat['Policy'] = customer_cat['Policy'].apply(policy_clust)\n"
     ]
    },
    {
     "data": {
      "text/plain": [
       "Personal L3    3426\n",
       "Personal L2    2122\n",
       "Corporate      1968\n",
       "Personal L1    1240\n",
       "Speial          378\n",
       "Name: Policy, dtype: int64"
      ]
     },
     "execution_count": 111,
     "metadata": {},
     "output_type": "execute_result"
    }
   ],
   "source": [
    "special = ['Special L1', 'Special L2', 'Special L3']\n",
    "corp = ['Corporate L2', 'Corporate L1', 'Corporate L3']\n",
    "\n",
    "def policy_clust(x):\n",
    "            if x in special: \n",
    "                return 'Speial'\n",
    "            elif x in corp: \n",
    "                return 'Corporate'\n",
    "            else: \n",
    "                return x\n",
    "        \n",
    "customer_cat['Policy'] = customer_cat['Policy'].apply(policy_clust)\n",
    "customer_cat['Policy'].value_counts()"
   ]
  },
  {
   "cell_type": "markdown",
   "id": "cd06cc9e-fe5e-4e5d-bc9b-4d0c5973ea61",
   "metadata": {},
   "source": [
    "##### 4. Vehicle Class"
   ]
  },
  {
   "cell_type": "code",
   "execution_count": 112,
   "id": "fa756af3-70af-4090-a9ba-d234a3a4c055",
   "metadata": {},
   "outputs": [
    {
     "data": {
      "text/plain": [
       "Four-Door Car    4621\n",
       "Two-Door Car     1886\n",
       "SUV              1796\n",
       "Sports Car        484\n",
       "Luxury SUV        184\n",
       "Luxury Car        163\n",
       "Name: Vehicle Class, dtype: int64"
      ]
     },
     "execution_count": 112,
     "metadata": {},
     "output_type": "execute_result"
    }
   ],
   "source": [
    "customer_cat['Vehicle Class'].value_counts()"
   ]
  },
  {
   "cell_type": "code",
   "execution_count": 117,
   "id": "68eed8b3-5a29-4d72-b833-068009df9990",
   "metadata": {},
   "outputs": [
    {
     "name": "stderr",
     "output_type": "stream",
     "text": [
      "/var/folders/dj/n16zrnc50j79vq_pt7btwyg40000gn/T/ipykernel_51348/1360090104.py:1: SettingWithCopyWarning: \n",
      "A value is trying to be set on a copy of a slice from a DataFrame.\n",
      "Try using .loc[row_indexer,col_indexer] = value instead\n",
      "\n",
      "See the caveats in the documentation: https://pandas.pydata.org/pandas-docs/stable/user_guide/indexing.html#returning-a-view-versus-a-copy\n",
      "  customer_cat['Vehicle Class'] = np.where(customer_cat['Vehicle Class'].isin(['Sports Car', 'Luxury SUV', 'Luxury Car']), 'Others', customer_cat['Vehicle Class'])\n"
     ]
    },
    {
     "data": {
      "text/plain": [
       "Four-Door Car    4621\n",
       "Two-Door Car     1886\n",
       "SUV              1796\n",
       "Others            831\n",
       "Name: Vehicle Class, dtype: int64"
      ]
     },
     "execution_count": 117,
     "metadata": {},
     "output_type": "execute_result"
    }
   ],
   "source": [
    "customer_cat['Vehicle Class'] = np.where(customer_cat['Vehicle Class'].isin(['Sports Car', 'Luxury SUV', 'Luxury Car']), 'Others', customer_cat['Vehicle Class'])\n",
    "customer_cat['Vehicle Class'].value_counts()"
   ]
  },
  {
   "cell_type": "code",
   "execution_count": null,
   "id": "7db3dcb4-f140-4cbf-9f9c-05b1a6219792",
   "metadata": {},
   "outputs": [],
   "source": []
  }
 ],
 "metadata": {
  "kernelspec": {
   "display_name": "Python 3 (ipykernel)",
   "language": "python",
   "name": "python3"
  },
  "language_info": {
   "codemirror_mode": {
    "name": "ipython",
    "version": 3
   },
   "file_extension": ".py",
   "mimetype": "text/x-python",
   "name": "python",
   "nbconvert_exporter": "python",
   "pygments_lexer": "ipython3",
   "version": "3.9.7"
  }
 },
 "nbformat": 4,
 "nbformat_minor": 5
}
